{
 "cells": [
  {
   "cell_type": "markdown",
   "metadata": {},
   "source": [
    "### 그리디 알고리즘\n",
    "\n"
   ]
  },
  {
   "cell_type": "markdown",
   "metadata": {},
   "source": [
    "### 그리디 알고리즘(탐욕법)\n",
    "- 현재 상황에서 당장 좋은 것만 선택하는 방법\n",
    "- 사전에 외우고 있지 않아도 풀수 있는 유형의 알고리즘"
   ]
  },
  {
   "cell_type": "markdown",
   "metadata": {},
   "source": [
    "##### 예제 3-1 거스름돈\n",
    "- 카운터에 500원, 100원 50원, 10원이 무한대로 존재\n",
    "- 손님에게 N원의 돈을 거슬러 줄때 동전의 최소갯수(단, N은 10의 배수)"
   ]
  },
  {
   "cell_type": "code",
   "execution_count": 1,
   "metadata": {},
   "outputs": [
    {
     "name": "stdout",
     "output_type": "stream",
     "text": [
      "6\n"
     ]
    }
   ],
   "source": [
    "n = 1260 #입력값\n",
    "count = 0 #동전갯수\n",
    "temp = 0 #중간단계 금액\n",
    "\n",
    "#동전을 전부 나열\n",
    "coins_types = [500, 100, 50, 10] ##500원, 100원, 50원, 10원 네가지 동전\n",
    "\n",
    "for coin in coins_types: #500부터 4번 돌면서\n",
    "    temp = n #1260, 260\n",
    "    count += int(n / coin) #1260 / 500 = 2, 260 / 100 = 2, 60 / 50 = 1, 10 / 10 = 1\n",
    "    n = n % coin #1260 % 500 = 260, 260 % 100 = 60, 60 % 50 = 10, 10 % 10 = 0\n",
    "\n",
    "print(count)"
   ]
  },
  {
   "cell_type": "markdown",
   "metadata": {},
   "source": [
    "- 1260원에 대한 최소 동전 개수 = 6"
   ]
  },
  {
   "cell_type": "markdown",
   "metadata": {},
   "source": [
    "##### BOJ 5585번 거스름돈\n",
    "- 백준의 경우 문제에 나와있는 입력값을 입력받도록 코드 작성해야\n",
    "    - n = int(input())\n",
    "    - n, m = input(int, input().split())"
   ]
  },
  {
   "cell_type": "code",
   "execution_count": 3,
   "metadata": {},
   "outputs": [
    {
     "name": "stdout",
     "output_type": "stream",
     "text": [
      "15\n"
     ]
    }
   ],
   "source": [
    "##백준 5585번\n",
    "n = int(input()) #380\n",
    "c = 1000\n",
    "count = 0\n",
    "temp = 0\n",
    "\n",
    "coins_types = [500, 100, 50, 10, 5, 1]\n",
    "\n",
    "#입력된 돈으로 뺌\n",
    "c -= n\n",
    "\n",
    "for coin in coins_types: #500부터 6번 돌면서\n",
    "    temp = c #620, 120, 20...\n",
    "    count += int(c / coin)\n",
    "    c = c % coin\n",
    "\n",
    "print(count)"
   ]
  },
  {
   "cell_type": "markdown",
   "metadata": {},
   "source": [
    "#### 92p 예제 - 큰 수의 법칙\n",
    "- 배열에 들어있는 수를 N번 더하여 가장 큰 수를 만든다. 단, 같은 수가 K번 이상 반복될 수 있음\n",
    "- 배열N(2 <= N <= 1000), 더하기회수M(1 <= M <= 10000), 반복가능수 K(1 <= K <= 10000)\n",
    "- 둘째 줄에 N의 자연수 배열 입력, 구분 공백으로\n",
    "- 입력으로 주어진 K는 항상 M보다 작음"
   ]
  },
  {
   "cell_type": "code",
   "execution_count": 4,
   "metadata": {},
   "outputs": [
    {
     "data": {
      "text/plain": [
       "[1]"
      ]
     },
     "execution_count": 4,
     "metadata": {},
     "output_type": "execute_result"
    }
   ],
   "source": [
    "## n, m, k를 공백으로 구분하여 입력받는다\n",
    "n, m, k = map(int, input().split())\n",
    "#n개의 배열값을 입력\n",
    "data = list(map(int,input().split()))\n",
    "\n",
    "'''\n",
    "5, 8, 3\n",
    "[2, 4, 5, 4, 6]\n",
    "'''\n",
    "\n",
    "##내림차순으로 정렬\n",
    "data.sort()\n",
    "upper = data[0] #6\n",
    "middle = data[1] #5\n",
    "result = 0\n",
    "\n",
    "while True:\n",
    "    for i in range(k): #가장 큰수를 K번 더한다\n",
    "        if m ==0: #더하기회수를 다 쓰면\n",
    "            break\n",
    "        else:\n",
    "            result += upper\n",
    "            m -= 1 #더할때마다 1씩 빼줌\n",
    "\n",
    "    if m == 0:\n",
    "        break\n",
    "    else:\n",
    "        result += middle\n",
    "        m -= 1 #더할때마다 1씩 빼줌\n",
    "\n",
    "print(result)"
   ]
  }
 ],
 "metadata": {
  "kernelspec": {
   "display_name": "Python 3",
   "language": "python",
   "name": "python3"
  },
  "language_info": {
   "codemirror_mode": {
    "name": "ipython",
    "version": 3
   },
   "file_extension": ".py",
   "mimetype": "text/x-python",
   "name": "python",
   "nbconvert_exporter": "python",
   "pygments_lexer": "ipython3",
   "version": "3.11.5"
  }
 },
 "nbformat": 4,
 "nbformat_minor": 2
}
